{
 "cells": [
  {
   "cell_type": "code",
   "execution_count": 1,
   "id": "f92bcadf-e631-4789-b20f-cbcf1f475fb0",
   "metadata": {},
   "outputs": [
    {
     "name": "stdout",
     "output_type": "stream",
     "text": [
      "eita\n"
     ]
    }
   ],
   "source": [
    "print('eita')"
   ]
  },
  {
   "cell_type": "code",
   "execution_count": 4,
   "id": "30484284-b6f7-432d-a10b-e9cc10f99a85",
   "metadata": {},
   "outputs": [],
   "source": [
    "# eita"
   ]
  },
  {
   "cell_type": "code",
   "execution_count": null,
   "id": "bac3d3a2-ff64-46aa-8e23-f018ca419447",
   "metadata": {},
   "outputs": [],
   "source": []
  }
 ],
 "metadata": {
  "kernelspec": {
   "display_name": "Python [conda env:base] *",
   "language": "python",
   "name": "conda-base-py"
  },
  "language_info": {
   "codemirror_mode": {
    "name": "ipython",
    "version": 3
   },
   "file_extension": ".py",
   "mimetype": "text/x-python",
   "name": "python",
   "nbconvert_exporter": "python",
   "pygments_lexer": "ipython3",
   "version": "3.12.7"
  }
 },
 "nbformat": 4,
 "nbformat_minor": 5
}
